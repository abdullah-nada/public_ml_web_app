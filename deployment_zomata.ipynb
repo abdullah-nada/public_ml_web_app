{
 "cells": [
  {
   "cell_type": "code",
   "execution_count": 1,
   "id": "45beb4f9",
   "metadata": {},
   "outputs": [
    {
     "name": "stdout",
     "output_type": "stream",
     "text": [
      "Writing zomata_app2.py\n"
     ]
    }
   ],
   "source": [
    "%%writefile zomata_app2.py\n",
    "import streamlit as st\n",
    "import pandas as pd\n",
    "import joblib\n",
    "\n",
    "Model=joblib.load(\"model.h5\")\n",
    "Inputs=joblib.load(\"input.h5\")\n",
    "\n",
    "def predict(online_order,book_table,votes,location,rest_type,cuisines,cost2people,types):\n",
    "    df_test=pd.DataFrame(columns=Inputs)\n",
    "    \n",
    "    df_test.at[0,'online_order']=online_order\n",
    "    df_test.at[0,'book_table']=book_table\n",
    "    df_test.at[0,'votes']=votes\n",
    "    df_test.at[0,'location']=location\n",
    "    df_test.at[0,'rest_type']=rest_type\n",
    "    df_test.at[0,'cuisines']=cuisines\n",
    "    df_test.at[0,'cost2people']=cost2people\n",
    "    df_test.at[0,'types']=types\n",
    "    result=Model.predict(df_test)[0]\n",
    "    return result\n",
    "\n",
    "def main():\n",
    "    st.title('Estimate of Rate  Bangalore Restaurants')\n",
    "    \n",
    "    online_order=st.selectbox('online_order', ['Yes', 'No'])\n",
    "    \n",
    "    book_table=st.selectbox('book_table', ['Yes', 'No'])\n",
    "    \n",
    "    votes=st.slider('votes' ,min_value=0,max_value=16900,value=25,step=1)\n",
    "    \n",
    "    location=st.selectbox('location' , ['Banashankari', 'Basavanagudi', 'other', 'Jayanagar', 'JP Nagar','Bannerghatta Road', 'BTM', 'Electronic City', 'HSR','Marathahalli', 'Koramangala five Block', 'Richmond Road','Koramangala seven Block', 'Koramangala four Block', 'Bellandur','Sarjapur Road', 'Whitefield', 'Old Airport Road', 'Indiranagar','Koramangala one Block', 'Frazer Town', 'MG Road', 'Brigade Road','Lavelle Road', 'Church Street', 'Ulsoor', 'Residency Road','Malleshwaram', 'Kammanahalli', 'Koramangala six  Block','Brookefield', 'Rajajinagar', 'Banaswadi', 'Kalyan Nagar','New BEL Road'])\n",
    "    rest_type=st.selectbox('rest_type' , ['Casual Dining', 'Other', 'Quick Bites', 'Cafe', 'Delivery','Dessert Parlor', 'Takeaway Delivery'])\n",
    "    \n",
    "    cuisines=st.selectbox('cuisines', ['others', 'South Indian North Indian', 'North Indian', 'Cafe','Cafe Continental', 'Cafe Fast Food', 'Bakery Desserts', 'Pizza','Biryani', 'North Indian Chinese Fast Food', 'South Indian','Burger Fast Food', 'Pizza Fast Food', 'North Indian Chinese','Chinese Thai', 'Ice Cream Desserts', 'Desserts Beverages','Chinese', 'Bakery', 'Fast Food', 'Mithai Street Food','South Indian Chinese', 'Biryani North Indian Chinese', 'Desserts','Ice Cream', 'South Indian North Indian Chinese','South Indian Biryani', 'Beverages', 'Chinese North Indian','South Indian North Indian Chinese Street Food', 'Street Food','Desserts Ice Cream', 'North Indian Chinese Biryani','Beverages Fast Food', 'North Indian Chinese South Indian','North Indian Fast Food', 'North Indian South Indian','North Indian Biryani', 'Finger Food', 'Continental','Fast Food Beverages', 'Biryani Kebab', 'North Indian Mughlai','North Indian South Indian Chinese', 'Biryani North Indian','Chinese Momos', 'Desserts Bakery', 'Bakery Fast Food', 'Kerala'])\n",
    "                          \n",
    "    cost2people=st.slider('cost2people', min_value=40, max_value=6000,value=20,step=1)\n",
    "                          \n",
    "    types=st.selectbox('types', ['Buffet', 'Cafes', 'Delivery', 'Desserts','Dineout', 'Drinks and nightlife', 'Pubs and bars'])\n",
    "    \n",
    "    if st.button('predict'):\n",
    "        result=predict(online_order,book_table,votes,location,rest_type,cuisines,cost2people,types)\n",
    "        st.write(\"Rate of resturant in Bangalore will be : {}\".format(result))\n",
    "if __name__ == '__main__':\n",
    "    main()"
   ]
  },
  {
   "cell_type": "code",
   "execution_count": null,
   "id": "a2e3e877",
   "metadata": {},
   "outputs": [],
   "source": [
    "!streamlit run zomata_app2.py"
   ]
  },
  {
   "cell_type": "code",
   "execution_count": null,
   "id": "084772a0",
   "metadata": {},
   "outputs": [],
   "source": []
  }
 ],
 "metadata": {
  "kernelspec": {
   "display_name": "Python 3 (ipykernel)",
   "language": "python",
   "name": "python3"
  },
  "language_info": {
   "codemirror_mode": {
    "name": "ipython",
    "version": 3
   },
   "file_extension": ".py",
   "mimetype": "text/x-python",
   "name": "python",
   "nbconvert_exporter": "python",
   "pygments_lexer": "ipython3",
   "version": "3.10.8"
  }
 },
 "nbformat": 4,
 "nbformat_minor": 5
}
